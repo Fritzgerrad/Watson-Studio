{
    "cells": [
        {
            "cell_type": "code",
            "execution_count": 1,
            "metadata": {},
            "outputs": [
                {
                    "data": {
                        "text/html": "<div>\n<style scoped>\n    .dataframe tbody tr th:only-of-type {\n        vertical-align: middle;\n    }\n\n    .dataframe tbody tr th {\n        vertical-align: top;\n    }\n\n    .dataframe thead th {\n        text-align: right;\n    }\n</style>\n<table border=\"1\" class=\"dataframe\">\n  <thead>\n    <tr style=\"text-align: right;\">\n      <th></th>\n      <th>Country or Territory</th>\n      <th>Station Name</th>\n      <th>WMO Station Number</th>\n      <th>National Station Id Number</th>\n      <th>Period</th>\n      <th>Element-Statistic Qualifier Code</th>\n      <th>Statistic Description</th>\n      <th>Unit</th>\n      <th>Jan</th>\n      <th>Jan Footnotes</th>\n      <th>...</th>\n      <th>Oct</th>\n      <th>Oct Footnotes</th>\n      <th>Nov</th>\n      <th>Nov Footnotes</th>\n      <th>Dec</th>\n      <th>Dec Footnotes</th>\n      <th>Annual</th>\n      <th>Annual Footnotes</th>\n      <th>Annual NCDC Computed Value</th>\n      <th>Annual NCDC Computed Value Footnotes</th>\n    </tr>\n  </thead>\n  <tbody>\n    <tr>\n      <th>0</th>\n      <td>AFGHANISTAN, ISLAMIC STATE OF</td>\n      <td>Faiz abad</td>\n      <td>40904.0</td>\n      <td>NaN</td>\n      <td>1961-1983</td>\n      <td>NaN</td>\n      <td>Mean Monthly Value</td>\n      <td>mm</td>\n      <td>49.4</td>\n      <td>NaN</td>\n      <td>...</td>\n      <td>23.4</td>\n      <td>NaN</td>\n      <td>29.7</td>\n      <td>NaN</td>\n      <td>34.1</td>\n      <td>NaN</td>\n      <td>40.4</td>\n      <td>NaN</td>\n      <td>484.9</td>\n      <td>NaN</td>\n    </tr>\n    <tr>\n      <th>1</th>\n      <td>AFGHANISTAN, ISLAMIC STATE OF</td>\n      <td>Sheberghan</td>\n      <td>40908.0</td>\n      <td>NaN</td>\n      <td>1959-1983</td>\n      <td>NaN</td>\n      <td>Mean Monthly Value</td>\n      <td>mm</td>\n      <td>42.3</td>\n      <td>NaN</td>\n      <td>...</td>\n      <td>6.6</td>\n      <td>NaN</td>\n      <td>13.6</td>\n      <td>NaN</td>\n      <td>29.8</td>\n      <td>NaN</td>\n      <td>19.2</td>\n      <td>NaN</td>\n      <td>230.5</td>\n      <td>NaN</td>\n    </tr>\n    <tr>\n      <th>2</th>\n      <td>AFGHANISTAN, ISLAMIC STATE OF</td>\n      <td>Mazar-i-Sharif</td>\n      <td>40911.0</td>\n      <td>NaN</td>\n      <td>1958-1983</td>\n      <td>NaN</td>\n      <td>Mean Monthly Value</td>\n      <td>mm</td>\n      <td>28.9</td>\n      <td>NaN</td>\n      <td>...</td>\n      <td>3.9</td>\n      <td>NaN</td>\n      <td>13.5</td>\n      <td>NaN</td>\n      <td>21.7</td>\n      <td>NaN</td>\n      <td>15.5</td>\n      <td>NaN</td>\n      <td>186.4</td>\n      <td>NaN</td>\n    </tr>\n    <tr>\n      <th>3</th>\n      <td>AFGHANISTAN, ISLAMIC STATE OF</td>\n      <td>Kunduz</td>\n      <td>40913.0</td>\n      <td>NaN</td>\n      <td>1968-1983</td>\n      <td>NaN</td>\n      <td>Mean Monthly Value</td>\n      <td>mm</td>\n      <td>44.0</td>\n      <td>NaN</td>\n      <td>...</td>\n      <td>7.3</td>\n      <td>NaN</td>\n      <td>23.7</td>\n      <td>NaN</td>\n      <td>28.4</td>\n      <td>NaN</td>\n      <td>26.8</td>\n      <td>NaN</td>\n      <td>322.6</td>\n      <td>NaN</td>\n    </tr>\n    <tr>\n      <th>4</th>\n      <td>AFGHANISTAN, ISLAMIC STATE OF</td>\n      <td>Maimana</td>\n      <td>40922.0</td>\n      <td>NaN</td>\n      <td>1964-1983</td>\n      <td>NaN</td>\n      <td>Mean Monthly Value</td>\n      <td>mm</td>\n      <td>49.9</td>\n      <td>NaN</td>\n      <td>...</td>\n      <td>9.6</td>\n      <td>NaN</td>\n      <td>20.9</td>\n      <td>NaN</td>\n      <td>44.7</td>\n      <td>NaN</td>\n      <td>29.6</td>\n      <td>NaN</td>\n      <td>355.6</td>\n      <td>NaN</td>\n    </tr>\n  </tbody>\n</table>\n<p>5 rows \u00d7 36 columns</p>\n</div>",
                        "text/plain": "            Country or Territory    Station Name  WMO Station Number  \\\n0  AFGHANISTAN, ISLAMIC STATE OF       Faiz abad             40904.0   \n1  AFGHANISTAN, ISLAMIC STATE OF      Sheberghan             40908.0   \n2  AFGHANISTAN, ISLAMIC STATE OF  Mazar-i-Sharif             40911.0   \n3  AFGHANISTAN, ISLAMIC STATE OF          Kunduz             40913.0   \n4  AFGHANISTAN, ISLAMIC STATE OF         Maimana             40922.0   \n\n  National Station Id Number     Period  Element-Statistic Qualifier Code  \\\n0                        NaN  1961-1983                               NaN   \n1                        NaN  1959-1983                               NaN   \n2                        NaN  1958-1983                               NaN   \n3                        NaN  1968-1983                               NaN   \n4                        NaN  1964-1983                               NaN   \n\n  Statistic Description Unit   Jan  Jan Footnotes  ...   Oct  Oct Footnotes  \\\n0    Mean Monthly Value   mm  49.4            NaN  ...  23.4            NaN   \n1    Mean Monthly Value   mm  42.3            NaN  ...   6.6            NaN   \n2    Mean Monthly Value   mm  28.9            NaN  ...   3.9            NaN   \n3    Mean Monthly Value   mm  44.0            NaN  ...   7.3            NaN   \n4    Mean Monthly Value   mm  49.9            NaN  ...   9.6            NaN   \n\n    Nov  Nov Footnotes   Dec  Dec Footnotes  Annual  Annual Footnotes  \\\n0  29.7            NaN  34.1            NaN    40.4               NaN   \n1  13.6            NaN  29.8            NaN    19.2               NaN   \n2  13.5            NaN  21.7            NaN    15.5               NaN   \n3  23.7            NaN  28.4            NaN    26.8               NaN   \n4  20.9            NaN  44.7            NaN    29.6               NaN   \n\n   Annual NCDC Computed Value  Annual NCDC Computed Value Footnotes  \n0                       484.9                                   NaN  \n1                       230.5                                   NaN  \n2                       186.4                                   NaN  \n3                       322.6                                   NaN  \n4                       355.6                                   NaN  \n\n[5 rows x 36 columns]"
                    },
                    "execution_count": 1,
                    "metadata": {},
                    "output_type": "execute_result"
                }
            ],
            "source": "# The code was removed by Watson Studio for sharing."
        },
        {
            "cell_type": "code",
            "execution_count": null,
            "metadata": {},
            "outputs": [],
            "source": ""
        }
    ],
    "metadata": {
        "kernelspec": {
            "display_name": "Python 3.9",
            "language": "python",
            "name": "python3"
        },
        "language_info": {
            "codemirror_mode": {
                "name": "ipython",
                "version": 3
            },
            "file_extension": ".py",
            "mimetype": "text/x-python",
            "name": "python",
            "nbconvert_exporter": "python",
            "pygments_lexer": "ipython3",
            "version": "3.9.12"
        }
    },
    "nbformat": 4,
    "nbformat_minor": 1
}